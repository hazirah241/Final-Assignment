{
 "cells": [
  {
   "cell_type": "markdown",
   "id": "81688a71-992c-41bc-a5b7-031396250a2b",
   "metadata": {},
   "source": [
    "# Data Science Tools and Ecosystem"
   ]
  },
  {
   "cell_type": "markdown",
   "id": "c68435eb-b495-4e4f-84b2-fad4055a6fa9",
   "metadata": {},
   "source": [
    "In this notebook, Data Science Tools and Ecosystem are summarized."
   ]
  },
  {
   "cell_type": "markdown",
   "id": "f1cf41c8-dcfc-4037-a5ba-c15bb505e2a2",
   "metadata": {},
   "source": [
    "**Objectives:**"
   ]
  },
  {
   "cell_type": "markdown",
   "id": "b007256e-f76b-4dd1-b4b6-1d1f93f88701",
   "metadata": {},
   "source": [
    "- List popular languages for Data Science\n",
    "- List common libraries used in Data Science\n",
    "- List development environment open source tools in Data Science"
   ]
  },
  {
   "cell_type": "markdown",
   "id": "a68e3b79-a1f9-4ecd-aa9d-cd139e6d3191",
   "metadata": {},
   "source": [
    "Some of the popular languages that Data Scientists use are:"
   ]
  },
  {
   "cell_type": "markdown",
   "id": "01f668dc-f5f9-49e8-86e6-527756e6b2be",
   "metadata": {},
   "source": [
    "1. Python\n",
    "2. R\n",
    "3. SQL"
   ]
  },
  {
   "cell_type": "markdown",
   "id": "3054e77c-c7c5-4c83-a563-67fb5224d041",
   "metadata": {},
   "source": [
    "Some of the commonly used libraries used by Data Scientists include:"
   ]
  },
  {
   "cell_type": "markdown",
   "id": "1de4aaa9-420f-4f1b-82c5-dbc50340a4f0",
   "metadata": {},
   "source": [
    "1. NumPy\n",
    "2. Pandas\n",
    "3. Tensorflow"
   ]
  },
  {
   "cell_type": "markdown",
   "id": "6aa03462-27c6-47d1-8b56-e568f71d1ef2",
   "metadata": {},
   "source": [
    "|Data Science Tools|\n",
    "|------------------|\n",
    "|Jupyter Lab|\n",
    "|RStudio|\n",
    "|Watson Studio|"
   ]
  },
  {
   "cell_type": "markdown",
   "id": "de8c9a97-bba9-43b7-a57b-b7a715ed7bfa",
   "metadata": {},
   "source": [
    "### Below are a few examples of evaluating arithmetic expressions in Python"
   ]
  },
  {
   "cell_type": "code",
   "execution_count": 1,
   "id": "59371c4e-02b0-4e7d-9e64-621ba2babcbb",
   "metadata": {},
   "outputs": [
    {
     "data": {
      "text/plain": [
       "17"
      ]
     },
     "execution_count": 1,
     "metadata": {},
     "output_type": "execute_result"
    }
   ],
   "source": [
    "# This a simple arithmetic expression to mutiply then add integers\n",
    "\n",
    "(3*4)+5"
   ]
  },
  {
   "cell_type": "code",
   "execution_count": 2,
   "id": "931668b1-3b65-4452-ab1e-4e1cf3054f4b",
   "metadata": {},
   "outputs": [
    {
     "data": {
      "text/plain": [
       "3.3333333333333335"
      ]
     },
     "execution_count": 2,
     "metadata": {},
     "output_type": "execute_result"
    }
   ],
   "source": [
    "# This will convert 200 minutes to hours by diving by 60\n",
    "\n",
    "200/60\n"
   ]
  },
  {
   "cell_type": "markdown",
   "id": "418d62c6-fd8a-4f87-bf11-4bbd05ae1b82",
   "metadata": {},
   "source": [
    "## Author\n",
    "Nur Hazirah Hisamuddin"
   ]
  },
  {
   "cell_type": "code",
   "execution_count": null,
   "id": "d06e3d98-788b-4725-b5a0-7b1eec2c4537",
   "metadata": {},
   "outputs": [],
   "source": []
  }
 ],
 "metadata": {
  "kernelspec": {
   "display_name": "Python 3 (ipykernel)",
   "language": "python",
   "name": "python3"
  },
  "language_info": {
   "codemirror_mode": {
    "name": "ipython",
    "version": 3
   },
   "file_extension": ".py",
   "mimetype": "text/x-python",
   "name": "python",
   "nbconvert_exporter": "python",
   "pygments_lexer": "ipython3",
   "version": "3.9.13"
  }
 },
 "nbformat": 4,
 "nbformat_minor": 5
}
